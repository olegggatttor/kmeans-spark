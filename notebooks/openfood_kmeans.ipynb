{
 "cells": [
  {
   "cell_type": "code",
   "execution_count": 8,
   "metadata": {
    "collapsed": true
   },
   "outputs": [],
   "source": [
    "from pyspark.ml.clustering import KMeans\n",
    "from pyspark.ml.evaluation import ClusteringEvaluator\n",
    "from pyspark.ml.feature import VectorAssembler, MinMaxScaler\n",
    "from pyspark.sql import SparkSession\n",
    "from pyspark.sql.functions import isnull, when, count, col, lit"
   ]
  },
  {
   "cell_type": "code",
   "execution_count": 9,
   "metadata": {
    "collapsed": false,
    "pycharm": {
     "name": "#%%\n"
    }
   },
   "outputs": [],
   "source": [
    "spark = SparkSession.builder \\\n",
    "                .appName(\"openfood-analytics\") \\\n",
    "                .master(\"local[*]\") \\\n",
    "                .config(\"spark.driver.cores\", \"2\") \\\n",
    "                .config(\"spark.driver.memory\", \"4g\") \\\n",
    "                .config(\"spark.executor.memory\", \"10g\") \\\n",
    "                .getOrCreate()"
   ]
  },
  {
   "cell_type": "code",
   "execution_count": 10,
   "metadata": {
    "collapsed": false,
    "pycharm": {
     "name": "#%%\n"
    }
   },
   "outputs": [
    {
     "name": "stdout",
     "output_type": "stream",
     "text": [
      "root\n",
      " |-- code: string (nullable = true)\n",
      " |-- url: string (nullable = true)\n",
      " |-- creator: string (nullable = true)\n",
      " |-- created_t: string (nullable = true)\n",
      " |-- created_datetime: string (nullable = true)\n",
      " |-- last_modified_t: string (nullable = true)\n",
      " |-- last_modified_datetime: string (nullable = true)\n",
      " |-- last_modified_by: string (nullable = true)\n",
      " |-- product_name: string (nullable = true)\n",
      " |-- abbreviated_product_name: string (nullable = true)\n",
      " |-- generic_name: string (nullable = true)\n",
      " |-- quantity: string (nullable = true)\n",
      " |-- packaging: string (nullable = true)\n",
      " |-- packaging_tags: string (nullable = true)\n",
      " |-- packaging_en: string (nullable = true)\n",
      " |-- packaging_text: string (nullable = true)\n",
      " |-- brands: string (nullable = true)\n",
      " |-- brands_tags: string (nullable = true)\n",
      " |-- categories: string (nullable = true)\n",
      " |-- categories_tags: string (nullable = true)\n",
      " |-- categories_en: string (nullable = true)\n",
      " |-- origins: string (nullable = true)\n",
      " |-- origins_tags: string (nullable = true)\n",
      " |-- origins_en: string (nullable = true)\n",
      " |-- manufacturing_places: string (nullable = true)\n",
      " |-- manufacturing_places_tags: string (nullable = true)\n",
      " |-- labels: string (nullable = true)\n",
      " |-- labels_tags: string (nullable = true)\n",
      " |-- labels_en: string (nullable = true)\n",
      " |-- emb_codes: string (nullable = true)\n",
      " |-- emb_codes_tags: string (nullable = true)\n",
      " |-- first_packaging_code_geo: string (nullable = true)\n",
      " |-- cities: string (nullable = true)\n",
      " |-- cities_tags: string (nullable = true)\n",
      " |-- purchase_places: string (nullable = true)\n",
      " |-- stores: string (nullable = true)\n",
      " |-- countries: string (nullable = true)\n",
      " |-- countries_tags: string (nullable = true)\n",
      " |-- countries_en: string (nullable = true)\n",
      " |-- ingredients_text: string (nullable = true)\n",
      " |-- ingredients_tags: string (nullable = true)\n",
      " |-- ingredients_analysis_tags: string (nullable = true)\n",
      " |-- allergens: string (nullable = true)\n",
      " |-- allergens_en: string (nullable = true)\n",
      " |-- traces: string (nullable = true)\n",
      " |-- traces_tags: string (nullable = true)\n",
      " |-- traces_en: string (nullable = true)\n",
      " |-- serving_size: string (nullable = true)\n",
      " |-- serving_quantity: string (nullable = true)\n",
      " |-- no_nutrition_data: string (nullable = true)\n",
      " |-- additives_n: string (nullable = true)\n",
      " |-- additives: string (nullable = true)\n",
      " |-- additives_tags: string (nullable = true)\n",
      " |-- additives_en: string (nullable = true)\n",
      " |-- nutriscore_score: string (nullable = true)\n",
      " |-- nutriscore_grade: string (nullable = true)\n",
      " |-- nova_group: string (nullable = true)\n",
      " |-- pnns_groups_1: string (nullable = true)\n",
      " |-- pnns_groups_2: string (nullable = true)\n",
      " |-- food_groups: string (nullable = true)\n",
      " |-- food_groups_tags: string (nullable = true)\n",
      " |-- food_groups_en: string (nullable = true)\n",
      " |-- states: string (nullable = true)\n",
      " |-- states_tags: string (nullable = true)\n",
      " |-- states_en: string (nullable = true)\n",
      " |-- brand_owner: string (nullable = true)\n",
      " |-- ecoscore_score: string (nullable = true)\n",
      " |-- ecoscore_grade: string (nullable = true)\n",
      " |-- nutrient_levels_tags: string (nullable = true)\n",
      " |-- product_quantity: string (nullable = true)\n",
      " |-- owner: string (nullable = true)\n",
      " |-- data_quality_errors_tags: string (nullable = true)\n",
      " |-- unique_scans_n: string (nullable = true)\n",
      " |-- popularity_tags: string (nullable = true)\n",
      " |-- completeness: string (nullable = true)\n",
      " |-- last_image_t: string (nullable = true)\n",
      " |-- last_image_datetime: string (nullable = true)\n",
      " |-- main_category: string (nullable = true)\n",
      " |-- main_category_en: string (nullable = true)\n",
      " |-- image_url: string (nullable = true)\n",
      " |-- image_small_url: string (nullable = true)\n",
      " |-- image_ingredients_url: string (nullable = true)\n",
      " |-- image_ingredients_small_url: string (nullable = true)\n",
      " |-- image_nutrition_url: string (nullable = true)\n",
      " |-- image_nutrition_small_url: string (nullable = true)\n",
      " |-- energy-kj_100g: string (nullable = true)\n",
      " |-- energy-kcal_100g: string (nullable = true)\n",
      " |-- energy_100g: string (nullable = true)\n",
      " |-- energy-from-fat_100g: string (nullable = true)\n",
      " |-- fat_100g: string (nullable = true)\n",
      " |-- saturated-fat_100g: string (nullable = true)\n",
      " |-- butyric-acid_100g: string (nullable = true)\n",
      " |-- caproic-acid_100g: string (nullable = true)\n",
      " |-- caprylic-acid_100g: string (nullable = true)\n",
      " |-- capric-acid_100g: string (nullable = true)\n",
      " |-- lauric-acid_100g: string (nullable = true)\n",
      " |-- myristic-acid_100g: string (nullable = true)\n",
      " |-- palmitic-acid_100g: string (nullable = true)\n",
      " |-- stearic-acid_100g: string (nullable = true)\n",
      " |-- arachidic-acid_100g: string (nullable = true)\n",
      " |-- behenic-acid_100g: string (nullable = true)\n",
      " |-- lignoceric-acid_100g: string (nullable = true)\n",
      " |-- cerotic-acid_100g: string (nullable = true)\n",
      " |-- montanic-acid_100g: string (nullable = true)\n",
      " |-- melissic-acid_100g: string (nullable = true)\n",
      " |-- unsaturated-fat_100g: string (nullable = true)\n",
      " |-- monounsaturated-fat_100g: string (nullable = true)\n",
      " |-- polyunsaturated-fat_100g: string (nullable = true)\n",
      " |-- omega-3-fat_100g: string (nullable = true)\n",
      " |-- alpha-linolenic-acid_100g: string (nullable = true)\n",
      " |-- eicosapentaenoic-acid_100g: string (nullable = true)\n",
      " |-- docosahexaenoic-acid_100g: string (nullable = true)\n",
      " |-- omega-6-fat_100g: string (nullable = true)\n",
      " |-- linoleic-acid_100g: string (nullable = true)\n",
      " |-- arachidonic-acid_100g: string (nullable = true)\n",
      " |-- gamma-linolenic-acid_100g: string (nullable = true)\n",
      " |-- dihomo-gamma-linolenic-acid_100g: string (nullable = true)\n",
      " |-- omega-9-fat_100g: string (nullable = true)\n",
      " |-- oleic-acid_100g: string (nullable = true)\n",
      " |-- elaidic-acid_100g: string (nullable = true)\n",
      " |-- gondoic-acid_100g: string (nullable = true)\n",
      " |-- mead-acid_100g: string (nullable = true)\n",
      " |-- erucic-acid_100g: string (nullable = true)\n",
      " |-- nervonic-acid_100g: string (nullable = true)\n",
      " |-- trans-fat_100g: string (nullable = true)\n",
      " |-- cholesterol_100g: string (nullable = true)\n",
      " |-- carbohydrates_100g: string (nullable = true)\n",
      " |-- sugars_100g: string (nullable = true)\n",
      " |-- added-sugars_100g: string (nullable = true)\n",
      " |-- sucrose_100g: string (nullable = true)\n",
      " |-- glucose_100g: string (nullable = true)\n",
      " |-- fructose_100g: string (nullable = true)\n",
      " |-- lactose_100g: string (nullable = true)\n",
      " |-- maltose_100g: string (nullable = true)\n",
      " |-- maltodextrins_100g: string (nullable = true)\n",
      " |-- starch_100g: string (nullable = true)\n",
      " |-- polyols_100g: string (nullable = true)\n",
      " |-- erythritol_100g: string (nullable = true)\n",
      " |-- fiber_100g: string (nullable = true)\n",
      " |-- soluble-fiber_100g: string (nullable = true)\n",
      " |-- insoluble-fiber_100g: string (nullable = true)\n",
      " |-- proteins_100g: string (nullable = true)\n",
      " |-- casein_100g: string (nullable = true)\n",
      " |-- serum-proteins_100g: string (nullable = true)\n",
      " |-- nucleotides_100g: string (nullable = true)\n",
      " |-- salt_100g: string (nullable = true)\n",
      " |-- added-salt_100g: string (nullable = true)\n",
      " |-- sodium_100g: string (nullable = true)\n",
      " |-- alcohol_100g: string (nullable = true)\n",
      " |-- vitamin-a_100g: string (nullable = true)\n",
      " |-- beta-carotene_100g: string (nullable = true)\n",
      " |-- vitamin-d_100g: string (nullable = true)\n",
      " |-- vitamin-e_100g: string (nullable = true)\n",
      " |-- vitamin-k_100g: string (nullable = true)\n",
      " |-- vitamin-c_100g: string (nullable = true)\n",
      " |-- vitamin-b1_100g: string (nullable = true)\n",
      " |-- vitamin-b2_100g: string (nullable = true)\n",
      " |-- vitamin-pp_100g: string (nullable = true)\n",
      " |-- vitamin-b6_100g: string (nullable = true)\n",
      " |-- vitamin-b9_100g: string (nullable = true)\n",
      " |-- folates_100g: string (nullable = true)\n",
      " |-- vitamin-b12_100g: string (nullable = true)\n",
      " |-- biotin_100g: string (nullable = true)\n",
      " |-- pantothenic-acid_100g: string (nullable = true)\n",
      " |-- silica_100g: string (nullable = true)\n",
      " |-- bicarbonate_100g: string (nullable = true)\n",
      " |-- potassium_100g: string (nullable = true)\n",
      " |-- chloride_100g: string (nullable = true)\n",
      " |-- calcium_100g: string (nullable = true)\n",
      " |-- phosphorus_100g: string (nullable = true)\n",
      " |-- iron_100g: string (nullable = true)\n",
      " |-- magnesium_100g: string (nullable = true)\n",
      " |-- zinc_100g: string (nullable = true)\n",
      " |-- copper_100g: string (nullable = true)\n",
      " |-- manganese_100g: string (nullable = true)\n",
      " |-- fluoride_100g: string (nullable = true)\n",
      " |-- selenium_100g: string (nullable = true)\n",
      " |-- chromium_100g: string (nullable = true)\n",
      " |-- molybdenum_100g: string (nullable = true)\n",
      " |-- iodine_100g: string (nullable = true)\n",
      " |-- caffeine_100g: string (nullable = true)\n",
      " |-- taurine_100g: string (nullable = true)\n",
      " |-- ph_100g: string (nullable = true)\n",
      " |-- fruits-vegetables-nuts_100g: string (nullable = true)\n",
      " |-- fruits-vegetables-nuts-dried_100g: string (nullable = true)\n",
      " |-- fruits-vegetables-nuts-estimate_100g: string (nullable = true)\n",
      " |-- fruits-vegetables-nuts-estimate-from-ingredients_100g: string (nullable = true)\n",
      " |-- collagen-meat-protein-ratio_100g: string (nullable = true)\n",
      " |-- cocoa_100g: string (nullable = true)\n",
      " |-- chlorophyl_100g: string (nullable = true)\n",
      " |-- carbon-footprint_100g: string (nullable = true)\n",
      " |-- carbon-footprint-from-meat-or-fish_100g: string (nullable = true)\n",
      " |-- nutrition-score-fr_100g: string (nullable = true)\n",
      " |-- nutrition-score-uk_100g: string (nullable = true)\n",
      " |-- glycemic-index_100g: string (nullable = true)\n",
      " |-- water-hardness_100g: string (nullable = true)\n",
      " |-- choline_100g: string (nullable = true)\n",
      " |-- phylloquinone_100g: string (nullable = true)\n",
      " |-- beta-glucan_100g: string (nullable = true)\n",
      " |-- inositol_100g: string (nullable = true)\n",
      " |-- carnitine_100g: string (nullable = true)\n",
      "\n"
     ]
    }
   ],
   "source": [
    "df = spark.read.option(\"sep\", \"\\t\").option(\"header\", True).csv(\"../data/en.openfoodfacts.org.products.csv\")\n",
    "df.printSchema()"
   ]
  },
  {
   "cell_type": "code",
   "execution_count": 11,
   "metadata": {
    "collapsed": false,
    "pycharm": {
     "name": "#%%\n"
    }
   },
   "outputs": [],
   "source": [
    "num_cols = [\n",
    " 'energy-kj_100g',\n",
    " 'energy-kcal_100g',\n",
    " 'energy_100g',\n",
    " 'energy-from-fat_100g',\n",
    " 'fat_100g',\n",
    " 'saturated-fat_100g',\n",
    " 'butyric-acid_100g',\n",
    " 'caproic-acid_100g',\n",
    " 'caprylic-acid_100g',\n",
    " 'capric-acid_100g',\n",
    " 'lauric-acid_100g',\n",
    " 'myristic-acid_100g',\n",
    " 'palmitic-acid_100g',\n",
    " 'stearic-acid_100g',\n",
    " 'arachidic-acid_100g',\n",
    " 'behenic-acid_100g',\n",
    " 'lignoceric-acid_100g',\n",
    " 'cerotic-acid_100g',\n",
    " 'montanic-acid_100g',\n",
    " 'melissic-acid_100g',\n",
    " 'unsaturated-fat_100g',\n",
    " 'monounsaturated-fat_100g',\n",
    " 'polyunsaturated-fat_100g',\n",
    " 'omega-3-fat_100g',\n",
    " 'alpha-linolenic-acid_100g',\n",
    " 'eicosapentaenoic-acid_100g',\n",
    " 'docosahexaenoic-acid_100g',\n",
    " 'omega-6-fat_100g',\n",
    " 'linoleic-acid_100g',\n",
    " 'arachidonic-acid_100g',\n",
    " 'gamma-linolenic-acid_100g',\n",
    " 'dihomo-gamma-linolenic-acid_100g',\n",
    " 'omega-9-fat_100g',\n",
    " 'oleic-acid_100g',\n",
    " 'elaidic-acid_100g',\n",
    " 'gondoic-acid_100g',\n",
    " 'mead-acid_100g',\n",
    " 'erucic-acid_100g',\n",
    " 'nervonic-acid_100g',\n",
    " 'trans-fat_100g',\n",
    " 'cholesterol_100g',\n",
    " 'carbohydrates_100g',\n",
    " 'sugars_100g',\n",
    " 'added-sugars_100g',\n",
    " 'sucrose_100g',\n",
    " 'glucose_100g',\n",
    " 'fructose_100g',\n",
    " 'lactose_100g',\n",
    " 'maltose_100g',\n",
    " 'maltodextrins_100g',\n",
    " 'starch_100g',\n",
    " 'polyols_100g',\n",
    " 'erythritol_100g',\n",
    " 'fiber_100g',\n",
    " 'soluble-fiber_100g',\n",
    " 'insoluble-fiber_100g',\n",
    " 'proteins_100g',\n",
    " 'casein_100g',\n",
    " 'serum-proteins_100g',\n",
    " 'nucleotides_100g',\n",
    " 'salt_100g',\n",
    " 'added-salt_100g',\n",
    " 'sodium_100g',\n",
    " 'alcohol_100g',\n",
    " 'vitamin-a_100g',\n",
    " 'beta-carotene_100g',\n",
    " 'vitamin-d_100g',\n",
    " 'vitamin-e_100g',\n",
    " 'vitamin-k_100g',\n",
    " 'vitamin-c_100g',\n",
    " 'vitamin-b1_100g',\n",
    " 'vitamin-b2_100g',\n",
    " 'vitamin-pp_100g',\n",
    " 'vitamin-b6_100g',\n",
    " 'vitamin-b9_100g',\n",
    " 'folates_100g',\n",
    " 'vitamin-b12_100g',\n",
    " 'biotin_100g',\n",
    " 'pantothenic-acid_100g',\n",
    " 'silica_100g',\n",
    " 'bicarbonate_100g',\n",
    " 'potassium_100g',\n",
    " 'chloride_100g',\n",
    " 'calcium_100g',\n",
    " 'phosphorus_100g',\n",
    " 'iron_100g',\n",
    " 'magnesium_100g',\n",
    " 'zinc_100g',\n",
    " 'copper_100g',\n",
    " 'manganese_100g',\n",
    " 'fluoride_100g',\n",
    " 'selenium_100g',\n",
    " 'chromium_100g',\n",
    " 'molybdenum_100g',\n",
    " 'iodine_100g',\n",
    " 'caffeine_100g',\n",
    " 'taurine_100g',\n",
    " 'ph_100g',\n",
    " 'fruits-vegetables-nuts_100g',\n",
    " 'fruits-vegetables-nuts-dried_100g',\n",
    " 'fruits-vegetables-nuts-estimate_100g',\n",
    " 'fruits-vegetables-nuts-estimate-from-ingredients_100g',\n",
    " 'collagen-meat-protein-ratio_100g',\n",
    " 'cocoa_100g',\n",
    " 'chlorophyl_100g',\n",
    " 'carbon-footprint_100g',\n",
    " 'carbon-footprint-from-meat-or-fish_100g',\n",
    " 'nutrition-score-fr_100g',\n",
    " 'nutrition-score-uk_100g',\n",
    " 'glycemic-index_100g',\n",
    " 'water-hardness_100g',\n",
    " 'choline_100g',\n",
    " 'phylloquinone_100g',\n",
    " 'beta-glucan_100g',\n",
    " 'inositol_100g',\n",
    " 'carnitine_100g'\n",
    "]\n",
    "\n",
    "cols_to_keep = [col(\"product_name\"), col(\"main_category\")] + [col(x).cast(\"float\") for x in num_cols]\n",
    "df = df.select(cols_to_keep)"
   ]
  },
  {
   "cell_type": "code",
   "execution_count": 12,
   "metadata": {
    "collapsed": false,
    "pycharm": {
     "name": "#%%\n"
    }
   },
   "outputs": [
    {
     "name": "stdout",
     "output_type": "stream",
     "text": [
      "+----------------+----------------+--------------+----------------+-----------+--------------------+--------+------------------+-----------------+-----------------+------------------+----------------+----------------+------------------+------------------+-----------------+-------------------+-----------------+--------------------+-----------------+------------------+------------------+--------------------+------------------------+------------------------+----------------+-------------------------+--------------------------+-------------------------+----------------+------------------+---------------------+-------------------------+--------------------------------+----------------+---------------+-----------------+-----------------+--------------+----------------+------------------+--------------+----------------+------------------+-----------+-----------------+------------+------------+-------------+------------+------------+------------------+-----------+------------+---------------+----------+------------------+--------------------+-------------+-----------+-------------------+----------------+---------+---------------+-----------+------------+--------------+------------------+--------------+--------------+--------------+--------------+---------------+---------------+---------------+---------------+---------------+------------+----------------+-----------+---------------------+-----------+----------------+--------------+-------------+------------+---------------+---------+--------------+---------+-----------+--------------+-------------+-------------+-------------+---------------+-----------+-------------+------------+-------+---------------------------+---------------------------------+------------------------------------+-----------------------------------------------------+--------------------------------+----------+---------------+---------------------+---------------------------------------+-----------------------+-----------------------+-------------------+-------------------+------------+------------------+----------------+-------------+--------------+\n",
      "|    product_name|   main_category|energy-kj_100g|energy-kcal_100g|energy_100g|energy-from-fat_100g|fat_100g|saturated-fat_100g|butyric-acid_100g|caproic-acid_100g|caprylic-acid_100g|capric-acid_100g|lauric-acid_100g|myristic-acid_100g|palmitic-acid_100g|stearic-acid_100g|arachidic-acid_100g|behenic-acid_100g|lignoceric-acid_100g|cerotic-acid_100g|montanic-acid_100g|melissic-acid_100g|unsaturated-fat_100g|monounsaturated-fat_100g|polyunsaturated-fat_100g|omega-3-fat_100g|alpha-linolenic-acid_100g|eicosapentaenoic-acid_100g|docosahexaenoic-acid_100g|omega-6-fat_100g|linoleic-acid_100g|arachidonic-acid_100g|gamma-linolenic-acid_100g|dihomo-gamma-linolenic-acid_100g|omega-9-fat_100g|oleic-acid_100g|elaidic-acid_100g|gondoic-acid_100g|mead-acid_100g|erucic-acid_100g|nervonic-acid_100g|trans-fat_100g|cholesterol_100g|carbohydrates_100g|sugars_100g|added-sugars_100g|sucrose_100g|glucose_100g|fructose_100g|lactose_100g|maltose_100g|maltodextrins_100g|starch_100g|polyols_100g|erythritol_100g|fiber_100g|soluble-fiber_100g|insoluble-fiber_100g|proteins_100g|casein_100g|serum-proteins_100g|nucleotides_100g|salt_100g|added-salt_100g|sodium_100g|alcohol_100g|vitamin-a_100g|beta-carotene_100g|vitamin-d_100g|vitamin-e_100g|vitamin-k_100g|vitamin-c_100g|vitamin-b1_100g|vitamin-b2_100g|vitamin-pp_100g|vitamin-b6_100g|vitamin-b9_100g|folates_100g|vitamin-b12_100g|biotin_100g|pantothenic-acid_100g|silica_100g|bicarbonate_100g|potassium_100g|chloride_100g|calcium_100g|phosphorus_100g|iron_100g|magnesium_100g|zinc_100g|copper_100g|manganese_100g|fluoride_100g|selenium_100g|chromium_100g|molybdenum_100g|iodine_100g|caffeine_100g|taurine_100g|ph_100g|fruits-vegetables-nuts_100g|fruits-vegetables-nuts-dried_100g|fruits-vegetables-nuts-estimate_100g|fruits-vegetables-nuts-estimate-from-ingredients_100g|collagen-meat-protein-ratio_100g|cocoa_100g|chlorophyl_100g|carbon-footprint_100g|carbon-footprint-from-meat-or-fish_100g|nutrition-score-fr_100g|nutrition-score-uk_100g|glycemic-index_100g|water-hardness_100g|choline_100g|phylloquinone_100g|beta-glucan_100g|inositol_100g|carnitine_100g|\n",
      "+----------------+----------------+--------------+----------------+-----------+--------------------+--------+------------------+-----------------+-----------------+------------------+----------------+----------------+------------------+------------------+-----------------+-------------------+-----------------+--------------------+-----------------+------------------+------------------+--------------------+------------------------+------------------------+----------------+-------------------------+--------------------------+-------------------------+----------------+------------------+---------------------+-------------------------+--------------------------------+----------------+---------------+-----------------+-----------------+--------------+----------------+------------------+--------------+----------------+------------------+-----------+-----------------+------------+------------+-------------+------------+------------+------------------+-----------+------------+---------------+----------+------------------+--------------------+-------------+-----------+-------------------+----------------+---------+---------------+-----------+------------+--------------+------------------+--------------+--------------+--------------+--------------+---------------+---------------+---------------+---------------+---------------+------------+----------------+-----------+---------------------+-----------+----------------+--------------+-------------+------------+---------------+---------+--------------+---------+-----------+--------------+-------------+-------------+-------------+---------------+-----------+-------------+------------+-------+---------------------------+---------------------------------+------------------------------------+-----------------------------------------------------+--------------------------------+----------+---------------+---------------------+---------------------------------------+-----------------------+-----------------------+-------------------+-------------------+------------+------------------+----------------+-------------+--------------+\n",
      "|  jeunes pousses|            null|          null|            null|       null|                null|    null|              null|             null|             null|              null|            null|            null|              null|              null|             null|               null|             null|                null|             null|              null|              null|                null|                    null|                    null|            null|                     null|                      null|                     null|            null|              null|                 null|                     null|                            null|            null|           null|             null|             null|          null|            null|              null|          null|            null|              null|       null|             null|        null|        null|         null|        null|        null|              null|       null|        null|           null|      null|              null|                null|         null|       null|               null|            null|     null|           null|       null|        null|          null|              null|          null|          null|          null|          null|           null|           null|           null|           null|           null|        null|            null|       null|                 null|       null|            null|          null|         null|        null|           null|     null|          null|     null|       null|          null|         null|         null|         null|           null|       null|         null|        null|   null|                       null|                             null|                                null|                                                 null|                            null|      null|           null|                 null|                                   null|                   null|                   null|               null|               null|        null|              null|            null|         null|          null|\n",
      "|           Andrè|            null|          null|           165.0|      690.0|                null|     2.0|               2.0|             null|             null|              null|            null|            null|              null|              null|             null|               null|             null|                null|             null|              null|              null|                null|                    null|                    null|            null|                     null|                      null|                     null|            null|              null|                 null|                     null|                            null|            null|           null|             null|             null|          null|            null|              null|          null|            null|              65.0|       12.6|             null|        null|        null|         null|        null|        null|              null|       null|        null|           null|       3.0|              null|                null|          1.5|       null|               null|            null|     null|           null|       null|        null|          null|              null|          null|          null|          null|          null|           null|           null|           null|           null|           null|        null|            null|       null|                 null|       null|            null|          null|         null|        null|           null|     null|          null|     null|       null|          null|         null|         null|         null|           null|       null|         null|        null|   null|                       null|                             null|                                null|                                                 null|                            null|      null|           null|                 null|                                   null|                   null|                   null|               null|               null|        null|              null|            null|         null|          null|\n",
      "|         L.casei|            null|          null|            null|       null|                null|     1.4|               0.9|             null|             null|              null|            null|            null|              null|              null|             null|               null|             null|                null|             null|              null|              null|                null|                    null|                    null|            null|                     null|                      null|                     null|            null|              null|                 null|                     null|                            null|            null|           null|             null|             null|          null|            null|              null|          null|            null|               9.8|        9.8|             null|        null|        null|         null|        null|        null|              null|       null|        null|           null|      null|              null|                null|          2.7|       null|               null|            null|      0.1|           null|       0.04|        null|          null|              null|          null|          null|          null|          null|           null|           null|           null|           null|           null|        null|            null|       null|                 null|       null|            null|          null|         null|        null|           null|     null|          null|     null|       null|          null|         null|         null|         null|           null|       null|         null|        null|   null|                       null|                             null|                                null|                                                  0.0|                            null|      null|           null|                 null|                                   null|                   null|                   null|               null|               null|        null|              null|            null|         null|          null|\n",
      "|            Skyr|en:cream-cheeses|          null|            57.0|      238.0|                null|     0.2|               0.1|             null|             null|              null|            null|            null|              null|              null|             null|               null|             null|                null|             null|              null|              null|                null|                    null|                    null|            null|                     null|                      null|                     null|            null|              null|                 null|                     null|                            null|            null|           null|             null|             null|          null|            null|              null|          null|            null|               3.9|        3.9|             null|        null|        null|         null|        null|        null|              null|       null|        null|           null|      null|              null|                null|         10.0|       null|               null|            null|     0.09|           null|      0.036|        null|          null|              null|          null|          null|          null|          null|           null|           null|           null|           null|           null|        null|            null|       null|                 null|       null|            null|          null|         null|        null|           null|     null|          null|     null|       null|          null|         null|         null|         null|           null|       null|         null|        null|   null|                       null|                             null|                                null|                                                 null|                            null|      null|           null|                 null|                                   null|                   -5.0|                   null|               null|               null|        null|              null|            null|         null|          null|\n",
      "|Vitória crackers|            null|          null|           375.0|     1569.0|                null|     7.0|              3.08|             null|             null|              null|            null|            null|              null|              null|             null|               null|             null|                null|             null|              null|              null|                null|                    null|                    null|            null|                     null|                      null|                     null|            null|              null|                 null|                     null|                            null|            null|           null|             null|             null|          null|            null|              null|          null|            null|              70.1|       15.0|             null|        null|        null|         null|        null|        null|              null|       null|        null|           null|      null|              null|                null|          7.8|       null|               null|            null|      1.4|           null|       0.56|        null|          null|              null|          null|          null|          null|          null|           null|           null|           null|           null|           null|        null|            null|       null|                 null|       null|            null|          null|         null|        null|           null|     null|          null|     null|       null|          null|         null|         null|         null|           null|       null|         null|        null|   null|                       null|                             null|                                null|                                                 null|                            null|      null|           null|                 null|                                   null|                   null|                   null|               null|               null|        null|              null|            null|         null|          null|\n",
      "+----------------+----------------+--------------+----------------+-----------+--------------------+--------+------------------+-----------------+-----------------+------------------+----------------+----------------+------------------+------------------+-----------------+-------------------+-----------------+--------------------+-----------------+------------------+------------------+--------------------+------------------------+------------------------+----------------+-------------------------+--------------------------+-------------------------+----------------+------------------+---------------------+-------------------------+--------------------------------+----------------+---------------+-----------------+-----------------+--------------+----------------+------------------+--------------+----------------+------------------+-----------+-----------------+------------+------------+-------------+------------+------------+------------------+-----------+------------+---------------+----------+------------------+--------------------+-------------+-----------+-------------------+----------------+---------+---------------+-----------+------------+--------------+------------------+--------------+--------------+--------------+--------------+---------------+---------------+---------------+---------------+---------------+------------+----------------+-----------+---------------------+-----------+----------------+--------------+-------------+------------+---------------+---------+--------------+---------+-----------+--------------+-------------+-------------+-------------+---------------+-----------+-------------+------------+-------+---------------------------+---------------------------------+------------------------------------+-----------------------------------------------------+--------------------------------+----------+---------------+---------------------+---------------------------------------+-----------------------+-----------------------+-------------------+-------------------+------------+------------------+----------------+-------------+--------------+\n",
      "only showing top 5 rows\n",
      "\n"
     ]
    }
   ],
   "source": [
    "df.show(n=5)"
   ]
  },
  {
   "cell_type": "code",
   "execution_count": 13,
   "metadata": {
    "collapsed": false,
    "pycharm": {
     "name": "#%%\n"
    }
   },
   "outputs": [],
   "source": [
    "# Find columns with > 60% null values\n",
    "nan_percentage = df.select([(lit(100) * count(when(isnull(c), c)) / count(\"*\")).alias(c) for c in df.columns])\\\n",
    "                    .collect()[0].asDict()\n",
    "non_nulls_cols = [k for k, v in nan_percentage.items() if v < 40]"
   ]
  },
  {
   "cell_type": "code",
   "execution_count": 14,
   "metadata": {
    "collapsed": false,
    "pycharm": {
     "name": "#%%\n"
    }
   },
   "outputs": [],
   "source": [
    "# Fill nans and drop \"null\" columns\n",
    "df = df.select(non_nulls_cols)\n",
    "df = df.na.fill(0.0).na.fill(\"unk\")"
   ]
  },
  {
   "cell_type": "code",
   "execution_count": 15,
   "metadata": {
    "collapsed": false,
    "pycharm": {
     "name": "#%%\n"
    }
   },
   "outputs": [
    {
     "name": "stdout",
     "output_type": "stream",
     "text": [
      "+------------+----------------+-----------+--------+------------------+------------------+-----------+-------------+---------+-----------+\n",
      "|product_name|energy-kcal_100g|energy_100g|fat_100g|saturated-fat_100g|carbohydrates_100g|sugars_100g|proteins_100g|salt_100g|sodium_100g|\n",
      "+------------+----------------+-----------+--------+------------------+------------------+-----------+-------------+---------+-----------+\n",
      "|         0.0|             0.0|        0.0|     0.0|               0.0|               0.0|        0.0|          0.0|      0.0|        0.0|\n",
      "+------------+----------------+-----------+--------+------------------+------------------+-----------+-------------+---------+-----------+\n",
      "\n"
     ]
    }
   ],
   "source": [
    "# Now there is no nulls\n",
    "df.select([(lit(100) * count(when(isnull(c), c)) / count(\"*\")).alias(c) for c in df.columns]).show()"
   ]
  },
  {
   "cell_type": "code",
   "execution_count": 16,
   "metadata": {
    "collapsed": false,
    "pycharm": {
     "name": "#%%\n"
    }
   },
   "outputs": [],
   "source": [
    "input_features = list(set(num_cols) & set(non_nulls_cols))\n",
    "df = VectorAssembler(inputCols=input_features, outputCol=\"raw_features\").setHandleInvalid(\"error\").transform(df)"
   ]
  },
  {
   "cell_type": "code",
   "execution_count": 17,
   "metadata": {
    "collapsed": false,
    "pycharm": {
     "name": "#%%\n"
    }
   },
   "outputs": [],
   "source": [
    "scaler = MinMaxScaler().setInputCol(\"raw_features\").setOutputCol(\"features\")\n",
    "scaler_model = scaler.fit(df)\n",
    "df = scaler_model.transform(df)"
   ]
  },
  {
   "cell_type": "code",
   "execution_count": 18,
   "metadata": {
    "collapsed": false,
    "pycharm": {
     "name": "#%%\n"
    }
   },
   "outputs": [],
   "source": [
    "metric = ClusteringEvaluator()\n",
    "results = []\n",
    "for k in range(2, 21, 3):\n",
    "    for max_iter in [5, 10, 20, 50]:\n",
    "        kmeans = KMeans().setK(k).setSeed(1).setMaxIter(max_iter)\n",
    "        cluster_model = kmeans.fit(df)\n",
    "        predictions = cluster_model.transform(df)\n",
    "        performance_measure = metric.evaluate(predictions)\n",
    "        results.append((k, max_iter, performance_measure))"
   ]
  },
  {
   "cell_type": "code",
   "execution_count": 25,
   "metadata": {
    "collapsed": false,
    "pycharm": {
     "name": "#%%\n"
    }
   },
   "outputs": [
    {
     "name": "stdout",
     "output_type": "stream",
     "text": [
      "Best params for k-means (k, max_iter, clustering_score): (2, 5, 0.9999969973987277)\n"
     ]
    }
   ],
   "source": [
    "best_params = max(results, key=lambda x: x[2])\n",
    "print(f\"Best params for k-means (k, max_iter, clustering_score): {best_params}\")"
   ]
  },
  {
   "cell_type": "code",
   "execution_count": 26,
   "metadata": {
    "collapsed": false,
    "pycharm": {
     "name": "#%%\n"
    }
   },
   "outputs": [],
   "source": [
    "kmeans = KMeans().setK(2).setSeed(1).setMaxIter(5)\n",
    "cluster_model = kmeans.fit(df)\n",
    "cluster_model.save(\"../data/openfood_kmeans.model\")"
   ]
  },
  {
   "cell_type": "code",
   "execution_count": null,
   "metadata": {
    "collapsed": false,
    "pycharm": {
     "name": "#%%\n"
    }
   },
   "outputs": [],
   "source": []
  }
 ],
 "metadata": {
  "kernelspec": {
   "display_name": "Python 3",
   "language": "python",
   "name": "python3"
  },
  "language_info": {
   "codemirror_mode": {
    "name": "ipython",
    "version": 2
   },
   "file_extension": ".py",
   "mimetype": "text/x-python",
   "name": "python",
   "nbconvert_exporter": "python",
   "pygments_lexer": "ipython2",
   "version": "2.7.6"
  }
 },
 "nbformat": 4,
 "nbformat_minor": 0
}
